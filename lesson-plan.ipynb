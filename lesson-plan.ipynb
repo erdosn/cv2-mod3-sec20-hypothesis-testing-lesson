{
 "cells": [
  {
   "cell_type": "markdown",
   "metadata": {},
   "source": [
    "### Questions\n",
    "\n",
    "\n",
    "## Hypothesis Testing -> Frequentist Approach\n",
    "    * Answer a question by looking at n-events or an event for n-days/minutes. \n",
    "    * Example: Which medicine is better, A B or C\n",
    "        * A - Placebo\n",
    "        * B - Medicine 1\n",
    "        * C - Medicine 2\n",
    "        * run the experiments, conclude that Medicine 1 is better, then administer that to people. \n",
    "    \n",
    "    * Pros/Cons\n",
    "        * (con) you might have outliers\n",
    "        * You might be able to pull causality out of this (pro)\n",
    "            * Causal Inference\n",
    "        * (pro) repeatable\n",
    "        * (con) you administered something not as good to people for some time. \n",
    "        \n",
    "\n",
    "## Bayesian Approach\n",
    "    * Multi-Arm Bandit Approach\n",
    "    * tune your MAB model to be greedy or exploratory. \n",
    "        * greedy means if it sees a positive effect from a treatment: A, then it will give A to more people and stop giving the lesser treatment. \n",
    "        * exploratory means, it can randomly decide to try a treatment that has a lesser effect to see if that's really the case. "
   ]
  },
  {
   "cell_type": "markdown",
   "metadata": {},
   "source": [
    "### Objectives\n",
    "YWBAT\n",
    "* apply hypothesis testing to groups\n",
    "* meeting test critera\n",
    "\n",
    "\n",
    "### What is it? \n",
    "- Hypothesis testing is a methodology for measuring the differences between groups of people. \n",
    "\n",
    "* Experimental Design\n",
    "    * Length of time or some other duration\n",
    "    * Control Groups and Experimental Groups\n",
    "    * Record data"
   ]
  },
  {
   "cell_type": "markdown",
   "metadata": {},
   "source": [
    "### Scenarios\n",
    "* Medical Research\n",
    "    * Control Group, Test Group A, Test Group B, Test Group C\n",
    "        * check if a drug has an effect on some statistic of the indidvuals in the groups. \n",
    "* Comparing battery types or designs\n",
    "* Compare webpages\n",
    "* Compare algorithms\n",
    "* Compare ads"
   ]
  },
  {
   "cell_type": "markdown",
   "metadata": {},
   "source": [
    "### Outline"
   ]
  },
  {
   "cell_type": "code",
   "execution_count": 11,
   "metadata": {},
   "outputs": [],
   "source": [
    "import pandas as pd\n",
    "import numpy as np\n",
    "\n",
    "import scipy.stats as scs\n",
    "from sklearn.datasets import load_iris\n",
    "\n",
    "import matplotlib.pyplot as plt\n",
    "import seaborn as sns"
   ]
  },
  {
   "cell_type": "code",
   "execution_count": 3,
   "metadata": {},
   "outputs": [],
   "source": [
    "iris = load_iris()\n",
    "data = iris.data\n",
    "target = iris.target\n",
    "features = iris.feature_names"
   ]
  },
  {
   "cell_type": "code",
   "execution_count": 8,
   "metadata": {},
   "outputs": [
    {
     "name": "stdout",
     "output_type": "stream",
     "text": [
      ".. _iris_dataset:\n",
      "\n",
      "Iris plants dataset\n",
      "--------------------\n",
      "\n",
      "**Data Set Characteristics:**\n",
      "\n",
      "    :Number of Instances: 150 (50 in each of three classes)\n",
      "    :Number of Attributes: 4 numeric, predictive attributes and the class\n",
      "    :Attribute Information:\n",
      "        - sepal length in cm\n",
      "        - sepal width in cm\n",
      "        - petal length in cm\n",
      "        - petal width in cm\n",
      "        - class:\n",
      "                - Iris-Setosa\n",
      "                - Iris-Versicolour\n",
      "                - Iris-Virginica\n",
      "                \n",
      "    :Summary Statistics:\n",
      "\n",
      "    ============== ==== ==== ======= ===== ====================\n",
      "                    Min  Max   Mean    SD   Class Correlation\n",
      "    ============== ==== ==== ======= ===== ====================\n",
      "    sepal length:   4.3  7.9   5.84   0.83    0.7826\n",
      "    sepal width:    2.0  4.4   3.05   0.43   -0.4194\n",
      "    petal length:   1.0  6.9   3.76   1.76    0.9490  (high!)\n",
      "    petal width:    0.1  2.5   1.20   0.76    0.9565  (high!)\n",
      "    ============== ==== ==== ======= ===== ====================\n",
      "\n",
      "    :Missing Attribute Values: None\n",
      "    :Class Distribution: 33.3% for each of 3 classes.\n",
      "    :Creator: R.A. Fisher\n",
      "    :Donor: Michael Marshall (MARSHALL%PLU@io.arc.nasa.gov)\n",
      "    :Date: July, 1988\n",
      "\n",
      "The famous Iris database, first used by Sir R.A. Fisher. The dataset is taken\n",
      "from Fisher's paper. Note that it's the same as in R, but not as in the UCI\n",
      "Machine Learning Repository, which has two wrong data points.\n",
      "\n",
      "This is perhaps the best known database to be found in the\n",
      "pattern recognition literature.  Fisher's paper is a classic in the field and\n",
      "is referenced frequently to this day.  (See Duda & Hart, for example.)  The\n",
      "data set contains 3 classes of 50 instances each, where each class refers to a\n",
      "type of iris plant.  One class is linearly separable from the other 2; the\n",
      "latter are NOT linearly separable from each other.\n",
      "\n",
      ".. topic:: References\n",
      "\n",
      "   - Fisher, R.A. \"The use of multiple measurements in taxonomic problems\"\n",
      "     Annual Eugenics, 7, Part II, 179-188 (1936); also in \"Contributions to\n",
      "     Mathematical Statistics\" (John Wiley, NY, 1950).\n",
      "   - Duda, R.O., & Hart, P.E. (1973) Pattern Classification and Scene Analysis.\n",
      "     (Q327.D83) John Wiley & Sons.  ISBN 0-471-22361-1.  See page 218.\n",
      "   - Dasarathy, B.V. (1980) \"Nosing Around the Neighborhood: A New System\n",
      "     Structure and Classification Rule for Recognition in Partially Exposed\n",
      "     Environments\".  IEEE Transactions on Pattern Analysis and Machine\n",
      "     Intelligence, Vol. PAMI-2, No. 1, 67-71.\n",
      "   - Gates, G.W. (1972) \"The Reduced Nearest Neighbor Rule\".  IEEE Transactions\n",
      "     on Information Theory, May 1972, 431-433.\n",
      "   - See also: 1988 MLC Proceedings, 54-64.  Cheeseman et al\"s AUTOCLASS II\n",
      "     conceptual clustering system finds 3 classes in the data.\n",
      "   - Many, many more ...\n"
     ]
    }
   ],
   "source": [
    "print(iris.DESCR)"
   ]
  },
  {
   "cell_type": "markdown",
   "metadata": {},
   "source": [
    "### Scenario\n",
    "* The intern just finished measuring the sepal length, width and petal length/width of 150 plants. You want to know, is there a difference in these measurements between groups? "
   ]
  },
  {
   "cell_type": "code",
   "execution_count": 10,
   "metadata": {},
   "outputs": [
    {
     "data": {
      "text/html": [
       "<div>\n",
       "<style scoped>\n",
       "    .dataframe tbody tr th:only-of-type {\n",
       "        vertical-align: middle;\n",
       "    }\n",
       "\n",
       "    .dataframe tbody tr th {\n",
       "        vertical-align: top;\n",
       "    }\n",
       "\n",
       "    .dataframe thead th {\n",
       "        text-align: right;\n",
       "    }\n",
       "</style>\n",
       "<table border=\"1\" class=\"dataframe\">\n",
       "  <thead>\n",
       "    <tr style=\"text-align: right;\">\n",
       "      <th></th>\n",
       "      <th>sepal length (cm)</th>\n",
       "      <th>sepal width (cm)</th>\n",
       "      <th>petal length (cm)</th>\n",
       "      <th>petal width (cm)</th>\n",
       "      <th>target</th>\n",
       "    </tr>\n",
       "  </thead>\n",
       "  <tbody>\n",
       "    <tr>\n",
       "      <td>0</td>\n",
       "      <td>5.1</td>\n",
       "      <td>3.5</td>\n",
       "      <td>1.4</td>\n",
       "      <td>0.2</td>\n",
       "      <td>0</td>\n",
       "    </tr>\n",
       "    <tr>\n",
       "      <td>1</td>\n",
       "      <td>4.9</td>\n",
       "      <td>3.0</td>\n",
       "      <td>1.4</td>\n",
       "      <td>0.2</td>\n",
       "      <td>0</td>\n",
       "    </tr>\n",
       "    <tr>\n",
       "      <td>2</td>\n",
       "      <td>4.7</td>\n",
       "      <td>3.2</td>\n",
       "      <td>1.3</td>\n",
       "      <td>0.2</td>\n",
       "      <td>0</td>\n",
       "    </tr>\n",
       "    <tr>\n",
       "      <td>3</td>\n",
       "      <td>4.6</td>\n",
       "      <td>3.1</td>\n",
       "      <td>1.5</td>\n",
       "      <td>0.2</td>\n",
       "      <td>0</td>\n",
       "    </tr>\n",
       "    <tr>\n",
       "      <td>4</td>\n",
       "      <td>5.0</td>\n",
       "      <td>3.6</td>\n",
       "      <td>1.4</td>\n",
       "      <td>0.2</td>\n",
       "      <td>0</td>\n",
       "    </tr>\n",
       "  </tbody>\n",
       "</table>\n",
       "</div>"
      ],
      "text/plain": [
       "   sepal length (cm)  sepal width (cm)  petal length (cm)  petal width (cm)  \\\n",
       "0                5.1               3.5                1.4               0.2   \n",
       "1                4.9               3.0                1.4               0.2   \n",
       "2                4.7               3.2                1.3               0.2   \n",
       "3                4.6               3.1                1.5               0.2   \n",
       "4                5.0               3.6                1.4               0.2   \n",
       "\n",
       "   target  \n",
       "0       0  \n",
       "1       0  \n",
       "2       0  \n",
       "3       0  \n",
       "4       0  "
      ]
     },
     "execution_count": 10,
     "metadata": {},
     "output_type": "execute_result"
    }
   ],
   "source": [
    "df = pd.DataFrame(data, columns=features)\n",
    "df['target'] = target\n",
    "df.head()"
   ]
  },
  {
   "cell_type": "markdown",
   "metadata": {},
   "source": [
    "### let's examine the sepal length of each group"
   ]
  },
  {
   "cell_type": "code",
   "execution_count": 14,
   "metadata": {},
   "outputs": [
    {
     "data": {
      "text/plain": [
       "<matplotlib.axes._subplots.AxesSubplot at 0x1a1f4f0b38>"
      ]
     },
     "execution_count": 14,
     "metadata": {},
     "output_type": "execute_result"
    },
    {
     "data": {
      "image/png": "[encoded data removed]",
      "text/plain": [
       "<Figure size 432x288 with 1 Axes>"
      ]
     },
     "metadata": {
      "needs_background": "light"
     },
     "output_type": "display_data"
    }
   ],
   "source": [
    "sns.violinplot(x='target', y='sepal length (cm)', data=df)"
   ]
  },
  {
   "cell_type": "markdown",
   "metadata": {},
   "source": [
    "### What do we notice about the distributions by type?\n",
    "* group 0, has a median of 5 and most are shorter than the rest\n",
    "* group 2, has a larger range, has a higher median, has outliers\n",
    "* group 1, kind of in the middle"
   ]
  },
  {
   "cell_type": "code",
   "execution_count": 24,
   "metadata": {},
   "outputs": [],
   "source": [
    "sep_len_g0 = df.loc[df.target==0, 'sepal length (cm)']\n",
    "sep_len_g1 = df.loc[df.target==1, 'sepal length (cm)']\n",
    "sep_len_g2 = df.loc[df.target==2, 'sepal length (cm)']"
   ]
  },
  {
   "cell_type": "code",
   "execution_count": 26,
   "metadata": {},
   "outputs": [
    {
     "data": {
      "image/png": "[encoded data removed]",
      "text/plain": [
       "<Figure size 432x288 with 1 Axes>"
      ]
     },
     "metadata": {
      "needs_background": "light"
     },
     "output_type": "display_data"
    }
   ],
   "source": [
    "plt.hist(sep_len_g0, bins=10, color='g', alpha=0.5)\n",
    "plt.hist(sep_len_g2, bins=10, color='purple', alpha=0.5)\n",
    "plt.show()"
   ]
  },
  {
   "cell_type": "markdown",
   "metadata": {},
   "source": [
    "### Error Types\n",
    "- Type I Error: \n",
    "    - is the rejection of a true null hypothesis\n",
    "    - You predict 1 but should have predicted 0 1-> True 0-> False\n",
    "- Type II Error: \n",
    "    - failing to reject a false null hypothesis\n",
    "    - You predict 0 but should have predicted 1. \n",
    "    \n",
    "When do you want to minimize Type I Error? \n",
    "    * Approving someone for a home loan\n",
    "    * Diagnosing Cancer\n",
    "\n",
    "When do you want to minimize Type II Error?\n",
    "    * Diagnosing a disease\n",
    "    * Diagnosing Cancer"
   ]
  },
  {
   "cell_type": "markdown",
   "metadata": {},
   "source": [
    "### Let's run a hypothesis test to test if there is a difference in the sepal length mean of the two groups\n",
    "\n",
    "\n",
    "What type of ttest do we use? \n",
    "- independent ttest (2 sample ttest)\n",
    "    - used to test 2 groups against one another\n"
   ]
  },
  {
   "cell_type": "markdown",
   "metadata": {},
   "source": [
    "Step 1: Get your two groups separated\n",
    "    \n",
    "    \n",
    "Step 2: Test assumptions\n",
    "    - Normality of each group\n",
    "    - Equal Variances"
   ]
  },
  {
   "cell_type": "code",
   "execution_count": 35,
   "metadata": {},
   "outputs": [
    {
     "name": "stdout",
     "output_type": "stream",
     "text": [
      "(0.9776989221572876, 0.4595281183719635)\n",
      "(0.9711798429489136, 0.25832483172416687)\n"
     ]
    }
   ],
   "source": [
    "# let's test for normality\n",
    "\n",
    "print(scs.shapiro(sep_len_g0))\n",
    "# p = 0.45 -> sep_len_g0 is normal with a confidence of 95%\n",
    "\n",
    "print(scs.shapiro(sep_len_g2))\n",
    "# p = 0.46 -> sep_len_g1 is normal with a confidence of 95%\n"
   ]
  },
  {
   "cell_type": "code",
   "execution_count": 36,
   "metadata": {},
   "outputs": [
    {
     "data": {
      "text/plain": [
       "LeveneResult(statistic=11.454002162818494, pvalue=0.0010271363228426178)"
      ]
     },
     "execution_count": 36,
     "metadata": {},
     "output_type": "execute_result"
    }
   ],
   "source": [
    "# let's test for equal variances\n",
    "# H0: v1 = v2\n",
    "# HA: v1 != v2\n",
    "scs.levene(sep_len_g0, sep_len_g2)\n",
    "\n",
    "# p = 0.001 -> reject the null hypothesis\n",
    "# if variances are not equal, what do we do!!!!?"
   ]
  },
  {
   "cell_type": "code",
   "execution_count": 37,
   "metadata": {},
   "outputs": [
    {
     "name": "stdout",
     "output_type": "stream",
     "text": [
      "3.9668672709859296e-25\n"
     ]
    }
   ],
   "source": [
    "# run the indepdent ttest with equal_var = False\n",
    "# H0: mu1 = mu2\n",
    "# HA: mu1 != mu2\n",
    "t, p = scs.ttest_ind(sep_len_g0, sep_len_g2, equal_var=False)\n",
    "\n",
    "print(p) \n",
    "\n",
    "# p ~ 0 -> reject the null hypothesis, \n",
    "# which means are means are different with 95% confidence"
   ]
  },
  {
   "cell_type": "code",
   "execution_count": 40,
   "metadata": {},
   "outputs": [],
   "source": [
    "# What if these weren't normal groups? \n",
    "\n",
    "# Resampling methods to create a sampling distribution\n",
    "\n",
    "sep_len_g0_means = []\n",
    "sep_len_g2_means = []\n",
    "\n",
    "# I'm going to use bootstrap sampling\n",
    "\n",
    "for i in range(30):\n",
    "    samp0 = np.random.choice(sep_len_g0, size=len(sep_len_g0), replace=True)\n",
    "    samp2 = np.random.choice(sep_len_g2, size=len(sep_len_g2), replace=True)\n",
    "    \n",
    "    sep_len_g0_means.append(samp0.mean())\n",
    "    sep_len_g2_means.append(samp2.mean())"
   ]
  },
  {
   "cell_type": "code",
   "execution_count": 42,
   "metadata": {},
   "outputs": [
    {
     "data": {
      "text/plain": [
       "((0.9506867527961731, 0.17636987566947937),\n",
       " (0.9579759240150452, 0.2747340500354767))"
      ]
     },
     "execution_count": 42,
     "metadata": {},
     "output_type": "execute_result"
    }
   ],
   "source": [
    "scs.shapiro(sep_len_g0_means), scs.shapiro(sep_len_g2_means)"
   ]
  },
  {
   "cell_type": "markdown",
   "metadata": {},
   "source": [
    "### Assessment"
   ]
  },
  {
   "cell_type": "code",
   "execution_count": null,
   "metadata": {},
   "outputs": [],
   "source": []
  }
 ],
 "metadata": {
  "kernelspec": {
   "display_name": "Python 3",
   "language": "python",
   "name": "python3"
  },
  "language_info": {
   "codemirror_mode": {
    "name": "ipython",
    "version": 3
   },
   "file_extension": ".py",
   "mimetype": "text/x-python",
   "name": "python",
   "nbconvert_exporter": "python",
   "pygments_lexer": "ipython3",
   "version": "3.6.0"
  }
 },
 "nbformat": 4,
 "nbformat_minor": 2
}
