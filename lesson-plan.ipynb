{
 "cells": [
  {
   "cell_type": "markdown",
   "metadata": {},
   "source": [
    "### Questions\n",
    "* How do we decide which test to use?\n",
    "* What is the workflow like?\n",
    "* What about non normal populations?]\n",
    "\n",
    "\n",
    "## Hypothesis -> Frequentist Approach\n",
    "\n",
    "## Bayesian Approach"
   ]
  },
  {
   "cell_type": "markdown",
   "metadata": {},
   "source": [
    "### Objectives\n",
    "YWBAT\n",
    "* apply hypothesis testing to groups\n",
    "* meeting test critera"
   ]
  },
  {
   "cell_type": "markdown",
   "metadata": {},
   "source": [
    "### Scenarios\n",
    "* Medical Research\n",
    "* In sports, does height have an effect on release point from the plate\n",
    "* Put a price on carbon, does this effect emissions\n",
    "* Serving a landing page\n",
    "* Ad campaigns - which ads drive clicks\n",
    "* Insurance - does this population present more/less of a risk"
   ]
  },
  {
   "cell_type": "markdown",
   "metadata": {},
   "source": [
    "### Outline"
   ]
  },
  {
   "cell_type": "code",
   "execution_count": 6,
   "metadata": {},
   "outputs": [],
   "source": [
    "import pandas as pd\n",
    "import numpy as np\n",
    "\n",
    "import scipy.stats as scs\n",
    "\n",
    "import matplotlib.pyplot as plt"
   ]
  },
  {
   "cell_type": "code",
   "execution_count": 11,
   "metadata": {},
   "outputs": [],
   "source": [
    "mu0 = 54.0"
   ]
  },
  {
   "cell_type": "code",
   "execution_count": 7,
   "metadata": {},
   "outputs": [],
   "source": [
    "population1 = np.random.randint(10, 100, 2000)\n",
    "population2 = np.random.randint(20, 80, 2000)"
   ]
  },
  {
   "cell_type": "code",
   "execution_count": 8,
   "metadata": {},
   "outputs": [
    {
     "data": {
      "text/plain": [
       "(54.8145, 48.396)"
      ]
     },
     "execution_count": 8,
     "metadata": {},
     "output_type": "execute_result"
    }
   ],
   "source": [
    "# how can we compare the means of these populations?\n",
    "population1.mean(), population2.mean()"
   ]
  },
  {
   "cell_type": "code",
   "execution_count": 10,
   "metadata": {},
   "outputs": [],
   "source": [
    "# sampling distributions\n",
    "means1 = []\n",
    "means2 = []\n",
    "\n",
    "for i in range(30):\n",
    "    means1.append(np.random.choice(population1, size=50, replace=False).mean())\n",
    "    means2.append(np.random.choice(population2, size=50, replace=False).mean())\n",
    "    \n",
    "    \n",
    "# based on the clt - the means of the sampling distributions is normally distributed"
   ]
  },
  {
   "cell_type": "code",
   "execution_count": 12,
   "metadata": {},
   "outputs": [],
   "source": [
    "# step 1: pick your test\n",
    "# step 2: do we meet the criteria of the test?"
   ]
  },
  {
   "cell_type": "code",
   "execution_count": 14,
   "metadata": {},
   "outputs": [
    {
     "data": {
      "text/plain": [
       "LeveneResult(statistic=3.587887243695722, pvalue=0.06319220302449272)"
      ]
     },
     "execution_count": 14,
     "metadata": {},
     "output_type": "execute_result"
    }
   ],
   "source": [
    "# test for equal variances LEVENE TEST\n",
    "# h0: var1 = var2\n",
    "# ha: var2 != var2\n",
    "\n",
    "scs.levene(means1, means2)\n",
    "\n",
    "# p = 0.06 -> fail to reject null, variances are equal"
   ]
  },
  {
   "cell_type": "code",
   "execution_count": 17,
   "metadata": {},
   "outputs": [
    {
     "data": {
      "text/plain": [
       "Ttest_indResult(statistic=7.51778742021142, pvalue=3.951152287595308e-10)"
      ]
     },
     "execution_count": 17,
     "metadata": {},
     "output_type": "execute_result"
    }
   ],
   "source": [
    "# Which test do we use?\n",
    "# pick our test: ttest_ind\n",
    "# what are the assumptions:\n",
    "# a, b have to be normal\n",
    "# need to check for equal_variances\n",
    "\n",
    "\n",
    "# h0: mu1 = mu2\n",
    "# ha: mu1 != mu2\n",
    "\n",
    "scs.ttest_ind(means1, means2, equal_var=True)\n",
    "\n",
    "\n",
    "# pvalue = 0 -> reject the null, so the means are different"
   ]
  },
  {
   "cell_type": "code",
   "execution_count": 18,
   "metadata": {},
   "outputs": [
    {
     "data": {
      "text/plain": [
       "(53.97533333333333, 47.931333333333335)"
      ]
     },
     "execution_count": 18,
     "metadata": {},
     "output_type": "execute_result"
    }
   ],
   "source": [
    "np.mean(means1), np.mean(means2)"
   ]
  },
  {
   "cell_type": "code",
   "execution_count": 21,
   "metadata": {},
   "outputs": [
    {
     "data": {
      "text/plain": [
       "((0.9760878086090088, 0.7147558331489563),\n",
       " (0.984048068523407, 0.9198938608169556))"
      ]
     },
     "execution_count": 21,
     "metadata": {},
     "output_type": "execute_result"
    }
   ],
   "source": [
    "# Shapiro test\n",
    "# h0: x is normal\n",
    "# ha: x is not normal\n",
    "scs.shapiro(means1), scs.shapiro(means2)\n",
    "\n",
    "# massive pvalues -> fail to reject null -> normal"
   ]
  },
  {
   "cell_type": "code",
   "execution_count": 23,
   "metadata": {},
   "outputs": [
    {
     "data": {
      "text/plain": [
       "Ttest_relResult(statistic=-0.20328351760585, pvalue=0.8403331042360073)"
      ]
     },
     "execution_count": 23,
     "metadata": {},
     "output_type": "execute_result"
    }
   ],
   "source": [
    "# h0: mu1 = mu2\n",
    "# ha: mu1 != mu2\n",
    "scs.ttest_rel(np.random.choice(population1, size=30), np.random.choice(population1, size=30))"
   ]
  },
  {
   "cell_type": "code",
   "execution_count": 19,
   "metadata": {},
   "outputs": [],
   "source": [
    "# set up your null/alternative hypothesis\n",
    "# get normal data through sampling distribution(s)\n",
    "# pick test to run\n",
    "# meet assumptions/requirements\n",
    "# run test\n",
    "# make conclusion\n",
    "# dig deeper"
   ]
  },
  {
   "cell_type": "markdown",
   "metadata": {},
   "source": [
    "## ttest_1samp\n",
    "* **When**\n",
    "    * See if a population statistics is the same as a statistic (number)\n",
    "        * comparing an arr to a number\n",
    "    \n",
    "* **Assumptions**\n",
    "    * pop mean\n",
    "    * normality -> shapiro test\n",
    "\n",
    "## ttest_ind\n",
    "* **When**\n",
    "    * Comparing 2 populations (arrays)\n",
    "    \n",
    "* **Assumptions**\n",
    "    * normality -> shapiro test\n",
    "    * equal variance -> levene test\n",
    "\n",
    "\n",
    "# Testing for multiple groups (>2)"
   ]
  },
  {
   "cell_type": "markdown",
   "metadata": {},
   "source": [
    "### Assessment"
   ]
  }
 ],
 "metadata": {
  "kernelspec": {
   "display_name": "Python 3",
   "language": "python",
   "name": "python3"
  },
  "language_info": {
   "codemirror_mode": {
    "name": "ipython",
    "version": 3
   },
   "file_extension": ".py",
   "mimetype": "text/x-python",
   "name": "python",
   "nbconvert_exporter": "python",
   "pygments_lexer": "ipython3",
   "version": "3.7.3"
  }
 },
 "nbformat": 4,
 "nbformat_minor": 2
}
